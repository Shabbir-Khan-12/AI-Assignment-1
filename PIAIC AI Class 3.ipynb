{
 "cells": [
  {
   "cell_type": "code",
   "execution_count": 1,
   "id": "18e8a8d9",
   "metadata": {},
   "outputs": [
    {
     "name": "stdout",
     "output_type": "stream",
     "text": [
      "Hello World!\n"
     ]
    }
   ],
   "source": [
    "print(\"Hello World!\")"
   ]
  },
  {
   "cell_type": "markdown",
   "id": "fda1759a",
   "metadata": {},
   "source": []
  },
  {
   "cell_type": "code",
   "execution_count": 2,
   "id": "e64f19f0",
   "metadata": {},
   "outputs": [
    {
     "name": "stdout",
     "output_type": "stream",
     "text": [
      "22\n",
      "23\n",
      "<class 'int'>\n",
      "<class 'int'>\n"
     ]
    }
   ],
   "source": [
    "num1 = int(input())\n",
    "num2 = int(input())\n",
    "print(type(num1))\n",
    "print(type(num2))"
   ]
  },
  {
   "cell_type": "code",
   "execution_count": 6,
   "id": "475d6249",
   "metadata": {},
   "outputs": [
    {
     "name": "stdout",
     "output_type": "stream",
     "text": [
      "23\n",
      "24\n",
      "2\n"
     ]
    }
   ],
   "source": [
    "num1 = int(input())\n",
    "num2 = int(input())\n",
    "operator = input()\n",
    "\n"
   ]
  },
  {
   "cell_type": "code",
   "execution_count": 7,
   "id": "e4d85a3e",
   "metadata": {},
   "outputs": [],
   "source": [
    "# name\n",
    "# father's name\n",
    "\n",
    "# print marksheet"
   ]
  },
  {
   "cell_type": "code",
   "execution_count": 9,
   "id": "d9c595c4",
   "metadata": {},
   "outputs": [
    {
     "name": "stdout",
     "output_type": "stream",
     "text": [
      "Enter number 1:50\n",
      "Enter number 2:50\n",
      "Enter number 3:50\n",
      "Enter number 4:50\n",
      "Enter number 5:50\n",
      "50.0\n"
     ]
    }
   ],
   "source": [
    "num1 = int(input(\"Enter number 1:\"))\n",
    "num2 = int(input(\"Enter number 2:\"))\n",
    "num3 = int(input(\"Enter number 3:\"))\n",
    "num4 = int(input(\"Enter number 4:\"))\n",
    "num5 = int(input(\"Enter number 5:\"))\n",
    "\n",
    "obtained_marks = num1+num2+num3+num4+num5\n",
    "total_marks = 500\n",
    "percentage = (obtained_marks/total_marks)*100\n",
    "print(percentage)"
   ]
  },
  {
   "cell_type": "code",
   "execution_count": 10,
   "id": "ec4413c8",
   "metadata": {},
   "outputs": [
    {
     "name": "stdout",
     "output_type": "stream",
     "text": [
      "Enter any value:4\n",
      "Enter any value:2\n",
      "6\n",
      "2\n",
      "8\n",
      "2.0\n"
     ]
    }
   ],
   "source": [
    "value1 = int(input(\"Enter any value:\"))\n",
    "value2 = int(input(\"Enter any value:\"))\n",
    "print(value1 + value2)\n",
    "print(value1 - value2)\n",
    "print(value1 * value2)\n",
    "print(value1 / value2)"
   ]
  },
  {
   "cell_type": "code",
   "execution_count": 1,
   "id": "18680d82",
   "metadata": {},
   "outputs": [
    {
     "name": "stdout",
     "output_type": "stream",
     "text": [
      "Enter your name: Shabbir\n",
      "Enter your father's nameAhmed Nawaz\n",
      "Hello! Shabbir\n"
     ]
    }
   ],
   "source": [
    "name = input(\"Enter your name: \")\n",
    "father_name = input(\"Enter your father's name\")\n",
    "print(\"Hello!\"+ \" \" + name)"
   ]
  },
  {
   "cell_type": "code",
   "execution_count": 4,
   "id": "86d3ef11",
   "metadata": {},
   "outputs": [],
   "source": [
    "_ = 1"
   ]
  },
  {
   "cell_type": "code",
   "execution_count": 5,
   "id": "fd6f6999",
   "metadata": {},
   "outputs": [],
   "source": [
    "_1 = 2"
   ]
  },
  {
   "cell_type": "code",
   "execution_count": null,
   "id": "232c03ea",
   "metadata": {},
   "outputs": [],
   "source": []
  }
 ],
 "metadata": {
  "kernelspec": {
   "display_name": "Python 3",
   "language": "python",
   "name": "python3"
  },
  "language_info": {
   "codemirror_mode": {
    "name": "ipython",
    "version": 3
   },
   "file_extension": ".py",
   "mimetype": "text/x-python",
   "name": "python",
   "nbconvert_exporter": "python",
   "pygments_lexer": "ipython3",
   "version": "3.8.8"
  }
 },
 "nbformat": 4,
 "nbformat_minor": 5
}
